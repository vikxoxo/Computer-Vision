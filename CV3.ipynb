{
  "nbformat": 4,
  "nbformat_minor": 0,
  "metadata": {
    "colab": {
      "name": "CV3.ipynb",
      "provenance": [],
      "authorship_tag": "ABX9TyNJ6gsMpS0i42o1W+v0QSGE",
      "include_colab_link": true
    },
    "kernelspec": {
      "name": "python3",
      "display_name": "Python 3"
    }
  },
  "cells": [
    {
      "cell_type": "markdown",
      "metadata": {
        "id": "view-in-github",
        "colab_type": "text"
      },
      "source": [
        "<a href=\"https://colab.research.google.com/github/vikxoxo/Computer-Vision/blob/master/CV3.ipynb\" target=\"_parent\"><img src=\"https://colab.research.google.com/assets/colab-badge.svg\" alt=\"Open In Colab\"/></a>"
      ]
    },
    {
      "cell_type": "code",
      "metadata": {
        "id": "hjLZE8wpWb3H",
        "colab_type": "code",
        "colab": {}
      },
      "source": [
        "import tensorflow as tf\n"
      ],
      "execution_count": null,
      "outputs": []
    },
    {
      "cell_type": "markdown",
      "metadata": {
        "id": "riDsMBuFWte9",
        "colab_type": "text"
      },
      "source": [
        "Convolution Forward"
      ]
    },
    {
      "cell_type": "code",
      "metadata": {
        "id": "p7dHFrWFWyH-",
        "colab_type": "code",
        "colab": {
          "base_uri": "https://localhost:8080/",
          "height": 100
        },
        "outputId": "cd9b91b0-3963-44ee-8d86-eb653c7f25d5"
      },
      "source": [
        "n = tf.random.normal((1,4,1)) # 1,4,1 = batch size, input dim1, input dim2\n",
        "print(n)"
      ],
      "execution_count": null,
      "outputs": [
        {
          "output_type": "stream",
          "text": [
            "tf.Tensor(\n",
            "[[[ 0.9991428 ]\n",
            "  [-2.2327986 ]\n",
            "  [-0.67692435]\n",
            "  [ 1.2016771 ]]], shape=(1, 4, 1), dtype=float32)\n"
          ],
          "name": "stdout"
        }
      ]
    },
    {
      "cell_type": "code",
      "metadata": {
        "id": "LRtX5sSyXLfa",
        "colab_type": "code",
        "colab": {
          "base_uri": "https://localhost:8080/",
          "height": 67
        },
        "outputId": "a6c8b382-8dfc-4e22-d72b-bec04dfc3081"
      },
      "source": [
        "#in general we don't have control over the input channels so 1,3,1 = batch size, weight/kernel dim1, weight/kernel dim2 \n",
        "conv1 = tf.keras.layers.Conv1D(1,3,1,'Valid', activation = None) \n",
        "conv1.bias_intializer = tf.constant_initializer(0)\n",
        "m = conv1(n)\n",
        "print(m) #output shape 1,2,1 = batch size, (input dim1 - weight/kernel dim1 + 1), (input dim2 - weight/kernel dim2 + 1)\n"
      ],
      "execution_count": null,
      "outputs": [
        {
          "output_type": "stream",
          "text": [
            "tf.Tensor(\n",
            "[[[-1.3508092]\n",
            "  [-2.040963 ]]], shape=(1, 2, 1), dtype=float32)\n"
          ],
          "name": "stdout"
        }
      ]
    },
    {
      "cell_type": "code",
      "metadata": {
        "id": "wrASGxLcZj2B",
        "colab_type": "code",
        "colab": {
          "base_uri": "https://localhost:8080/",
          "height": 33
        },
        "outputId": "10f7f903-0fe8-4460-db09-9c863bba718c"
      },
      "source": [
        "n = tf.random.normal((1,16, 16 ,1)) # 1,4,1 = batch size, height, width, channel\n",
        "print(n.shape)"
      ],
      "execution_count": null,
      "outputs": [
        {
          "output_type": "stream",
          "text": [
            "(1, 16, 16, 1)\n"
          ],
          "name": "stdout"
        }
      ]
    },
    {
      "cell_type": "code",
      "metadata": {
        "id": "SENXmkR0dFp-",
        "colab_type": "code",
        "colab": {}
      },
      "source": [
        "conv2 = tf.keras.layers.Conv2D(8,[5,5],[1,1],'Valid', activation = None) #valid = no padding, 8 = output channel we want"
      ],
      "execution_count": null,
      "outputs": []
    },
    {
      "cell_type": "code",
      "metadata": {
        "id": "dyfssMptYY48",
        "colab_type": "code",
        "colab": {
          "base_uri": "https://localhost:8080/",
          "height": 33
        },
        "outputId": "a5db1fa5-ad03-44d0-fbd6-c44f0312c839"
      },
      "source": [
        "m = conv2(n)\n",
        "print(m.shape) # 12 = 16-5+1"
      ],
      "execution_count": null,
      "outputs": [
        {
          "output_type": "stream",
          "text": [
            "(1, 12, 12, 8)\n"
          ],
          "name": "stdout"
        }
      ]
    },
    {
      "cell_type": "code",
      "metadata": {
        "id": "YRal7yqBd87W",
        "colab_type": "code",
        "colab": {
          "base_uri": "https://localhost:8080/",
          "height": 33
        },
        "outputId": "d7f6d7e3-a933-4ae5-bed7-c6f5d15fa741"
      },
      "source": [
        "print(conv2.weights[0].shape) #weights (5,5, 1, 8) = h of kernel, w of kernel , no of input cahnnel (not in our control), output channel we want"
      ],
      "execution_count": null,
      "outputs": [
        {
          "output_type": "stream",
          "text": [
            "(5, 5, 1, 8)\n"
          ],
          "name": "stdout"
        }
      ]
    },
    {
      "cell_type": "code",
      "metadata": {
        "id": "MSi3C64jeS3Z",
        "colab_type": "code",
        "colab": {
          "base_uri": "https://localhost:8080/",
          "height": 33
        },
        "outputId": "7a6b0622-1015-4e86-f6ea-0494ee656552"
      },
      "source": [
        "print(conv2.weights[1].shape) #bias"
      ],
      "execution_count": null,
      "outputs": [
        {
          "output_type": "stream",
          "text": [
            "(8,)\n"
          ],
          "name": "stdout"
        }
      ]
    },
    {
      "cell_type": "markdown",
      "metadata": {
        "id": "tFOipg0lxP1L",
        "colab_type": "text"
      },
      "source": [
        "![](https://drive.google.com/uc?export=view&id=1fh8pGvSsaUlu0Z7gJNZ4HSpoLuuFZQYP)\n"
      ]
    },
    {
      "cell_type": "markdown",
      "metadata": {
        "id": "6Wlt_pakx5D-",
        "colab_type": "text"
      },
      "source": [
        "You may try the image code by yourself"
      ]
    },
    {
      "cell_type": "markdown",
      "metadata": {
        "id": "sw8svPwEzX3M",
        "colab_type": "text"
      },
      "source": [
        "An important point regarding backprop in cnn is that backprop of convolution is also the convolution but with different parameter.\n",
        "\n",
        "\n",
        "*   Dilated convolution : when we want to cover more area of image with same size of kernel. https://erogol.com/dilated-convolution/\n",
        "*   Dilated convolution is helpful when we want less no. of parameters but we want to cover larger area of the image(input) in a stride.\n",
        "\n",
        "*   Transpose convolution or Deconvolution is the reverse of covolution useful when we want upsampling of an image i.e. output size is greater than input image size.\n",
        "*   Interseting is that everything is convolution. You can phrase fully connected layer as convolution too. See below image.\n",
        "\n",
        "![](https://drive.google.com/uc?export=view&id=1EbzsK5kOXPZRm23CxKK6VZmBOrQj8_4y)\n",
        "\n",
        "\n",
        "\n",
        "\n",
        "\n"
      ]
    },
    {
      "cell_type": "markdown",
      "metadata": {
        "id": "JvTaRJHw07uq",
        "colab_type": "text"
      },
      "source": [
        "Pooling operation is reduces computation burden. As it reduces hieght and width of feature maps. There are paper with No pooling with strides to reduce size. But in general max pooling is practiced."
      ]
    },
    {
      "cell_type": "markdown",
      "metadata": {
        "id": "j1x170KDKIxl",
        "colab_type": "text"
      },
      "source": [
        "\n",
        "\n",
        "![](https://drive.google.com/uc?export=view&id=1mn1cpJPrWkJ8j_EWJEao0an7IyAe9MvJ)\n",
        "\n",
        "![](https://drive.google.com/uc?export=view&id=19IPe0BAdWixCrfQrQmBNJRR7LxZESOXV)\n",
        "\n",
        "Backprop in Max pooling\n",
        "![](https://drive.google.com/uc?export=view&id=14lpSYHikfyrcLcRWJz_9IaphQAtCBiHO)\n",
        "\n",
        "Backprop in Avg pooling\n",
        "![](https://drive.google.com/uc?export=view&id=1-0qi4sQI1LiN1zd_CXIerQ10EYZnqTOb)\n"
      ]
    },
    {
      "cell_type": "code",
      "metadata": {
        "id": "8zv1ihAIx_dT",
        "colab_type": "code",
        "colab": {}
      },
      "source": [
        ""
      ],
      "execution_count": null,
      "outputs": []
    }
  ]
}