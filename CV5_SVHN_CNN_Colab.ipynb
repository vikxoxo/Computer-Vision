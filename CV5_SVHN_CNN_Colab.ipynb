{
  "nbformat": 4,
  "nbformat_minor": 0,
  "metadata": {
    "colab": {
      "name": "CV5_SVHN_CNN_Colab.ipynb",
      "provenance": [],
      "collapsed_sections": [],
      "include_colab_link": true
    },
    "kernelspec": {
      "name": "python2",
      "display_name": "Python 2"
    },
    "accelerator": "GPU"
  },
  "cells": [
    {
      "cell_type": "markdown",
      "metadata": {
        "id": "view-in-github",
        "colab_type": "text"
      },
      "source": [
        "<a href=\"https://colab.research.google.com/github/vikxoxo/Computer-Vision/blob/master/CV5_SVHN_CNN_Colab.ipynb\" target=\"_parent\"><img src=\"https://colab.research.google.com/assets/colab-badge.svg\" alt=\"Open In Colab\"/></a>"
      ]
    },
    {
      "cell_type": "markdown",
      "metadata": {
        "id": "LxjUOqbicMOa",
        "colab_type": "text"
      },
      "source": [
        "<h1>SVHN Classification using CNNs</h1>\n",
        "\n",
        "---\n",
        "\n"
      ]
    },
    {
      "cell_type": "markdown",
      "metadata": {
        "id": "GTQlTR2Scks4",
        "colab_type": "text"
      },
      "source": [
        "# Importing Keras Modules\n"
      ]
    },
    {
      "cell_type": "code",
      "metadata": {
        "id": "1ve46hnH315r",
        "colab_type": "code",
        "colab": {
          "base_uri": "https://localhost:8080/",
          "height": 34
        },
        "outputId": "c238a349-2037-4577-8027-6ece4a24db74"
      },
      "source": [
        "#Importing important modules\n",
        "import keras\n",
        "from keras.models import Sequential\n",
        "from keras.layers import Dense, Dropout, Flatten\n",
        "from keras.layers import Conv2D, MaxPooling2D\n",
        "from keras.callbacks import ModelCheckpoint, EarlyStopping\n",
        "#Installing Tensorboard for Colab\n",
        "!pip install tensorboardcolab"
      ],
      "execution_count": 10,
      "outputs": [
        {
          "output_type": "stream",
          "text": [
            "Requirement already satisfied: tensorboardcolab in /usr/local/lib/python2.7/dist-packages (0.0.22)\n"
          ],
          "name": "stdout"
        }
      ]
    },
    {
      "cell_type": "code",
      "metadata": {
        "id": "4gHx-n1N-8FK",
        "colab_type": "code",
        "colab": {
          "base_uri": "https://localhost:8080/",
          "height": 34
        },
        "outputId": "22ba3373-4dc6-4cf2-ec30-c22aa4614029"
      },
      "source": [
        "from google.colab import drive\n",
        "drive.mount('/content/drive')"
      ],
      "execution_count": 11,
      "outputs": [
        {
          "output_type": "stream",
          "text": [
            "Drive already mounted at /content/drive; to attempt to forcibly remount, call drive.mount(\"/content/drive\", force_remount=True).\n"
          ],
          "name": "stdout"
        }
      ]
    },
    {
      "cell_type": "code",
      "metadata": {
        "id": "ezc9oNNCLXgo",
        "colab_type": "code",
        "colab": {}
      },
      "source": [
        "root_path = '/content/drive/My Drive/DataSets'  #change dir to your project folder"
      ],
      "execution_count": 12,
      "outputs": []
    },
    {
      "cell_type": "code",
      "metadata": {
        "id": "J71XW5EUL2Iq",
        "colab_type": "code",
        "colab": {}
      },
      "source": [
        "import os\n",
        "from os import path\n",
        "import shutil"
      ],
      "execution_count": 13,
      "outputs": []
    },
    {
      "cell_type": "code",
      "metadata": {
        "id": "uLrj7_3pXRb5",
        "colab_type": "code",
        "colab": {
          "resources": {
            "http://localhost:8080/nbextensions/google.colab/files.js": {
              "data": "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",
              "ok": true,
              "headers": [
                [
                  "content-type",
                  "application/javascript"
                ]
              ],
              "status": 200,
              "status_text": ""
            }
          },
          "base_uri": "https://localhost:8080/",
          "height": 91
        },
        "outputId": "3ba69430-6940-4f3d-fec4-bb6862684f63"
      },
      "source": [
        "from google.colab import files\n",
        "files.upload()  #this will prompt you to upload the kaggle.json"
      ],
      "execution_count": 17,
      "outputs": [
        {
          "output_type": "display_data",
          "data": {
            "text/plain": [
              "<IPython.core.display.HTML object>"
            ],
            "text/html": [
              "\n",
              "     <input type=\"file\" id=\"files-9c664d68-bee9-424f-8b42-460d0b72df79\" name=\"files[]\" multiple disabled\n",
              "        style=\"border:none\" />\n",
              "     <output id=\"result-9c664d68-bee9-424f-8b42-460d0b72df79\">\n",
              "      Upload widget is only available when the cell has been executed in the\n",
              "      current browser session. Please rerun this cell to enable.\n",
              "      </output>\n",
              "      <script src=\"/nbextensions/google.colab/files.js\"></script> "
            ]
          },
          "metadata": {
            "tags": []
          }
        },
        {
          "output_type": "stream",
          "text": [
            "Saving kaggle.json to kaggle.json\n"
          ],
          "name": "stdout"
        },
        {
          "output_type": "execute_result",
          "data": {
            "text/plain": [
              "{u'kaggle.json': '{\"username\":\"vikanksh\",\"key\":\"dda4ebcc1e5882aacdabc8eb6906d257\"}'}"
            ]
          },
          "metadata": {
            "tags": []
          },
          "execution_count": 17
        }
      ]
    },
    {
      "cell_type": "code",
      "metadata": {
        "id": "LDN_CwwCX_oB",
        "colab_type": "code",
        "colab": {
          "base_uri": "https://localhost:8080/",
          "height": 34
        },
        "outputId": "ca4494a6-a41a-4857-b643-eb7ab782ee19"
      },
      "source": [
        "!pip install -q kaggle\n",
        "!mkdir -p ~/.kaggle\n",
        "!cp kaggle.json ~/.kaggle/\n",
        "!ls ~/.kaggle\n",
        "!chmod 600 /root/.kaggle/kaggle.json  # set permission"
      ],
      "execution_count": 18,
      "outputs": [
        {
          "output_type": "stream",
          "text": [
            "kaggle.json\n"
          ],
          "name": "stdout"
        }
      ]
    },
    {
      "cell_type": "code",
      "metadata": {
        "id": "QFor3wEcL5qd",
        "colab_type": "code",
        "colab": {
          "base_uri": "https://localhost:8080/",
          "height": 34
        },
        "outputId": "3642ebc0-3061-442f-d4ce-0e4653dd0eca"
      },
      "source": [
        "file_path = os.path.join(root_path, \"street-view-house-nos-h5-file.zip\")\n",
        "print(file_path)"
      ],
      "execution_count": 19,
      "outputs": [
        {
          "output_type": "stream",
          "text": [
            "/SVHN_single_grey1.h5\n"
          ],
          "name": "stdout"
        }
      ]
    },
    {
      "cell_type": "code",
      "metadata": {
        "id": "Ys-g-87PMR_j",
        "colab_type": "code",
        "colab": {
          "base_uri": "https://localhost:8080/",
          "height": 70
        },
        "outputId": "240aa73e-c465-4017-c2c6-274691194ec9"
      },
      "source": [
        "if(path.isfile(file_path)==False):\n",
        "  os.chdir(root_path)  #change dir\n",
        "  # !wget 'https://www.kaggle.com/sasha18/street-view-house-nos-h5-file/download'\n",
        "  !kaggle datasets download -d sasha18/street-view-house-nos-h5-file"
      ],
      "execution_count": 22,
      "outputs": [
        {
          "output_type": "stream",
          "text": [
            "Downloading street-view-house-nos-h5-file.zip to /content/drive/My Drive/DataSets\n",
            "100% 385M/387M [00:16<00:00, 17.3MB/s]\n",
            "100% 387M/387M [00:17<00:00, 23.8MB/s]\n"
          ],
          "name": "stdout"
        }
      ]
    },
    {
      "cell_type": "code",
      "metadata": {
        "id": "kbPK5k52aueQ",
        "colab_type": "code",
        "colab": {}
      },
      "source": [
        "os.chdir(root_path)  #change dir\n",
        "# !mkdir svhnH5  #create a directory named unzip/\n",
        "!unzip -q street-view-house-nos-h5-file.zip   #unzip data in train/"
      ],
      "execution_count": 23,
      "outputs": []
    },
    {
      "cell_type": "markdown",
      "metadata": {
        "id": "OKVkkLaLdPGU",
        "colab_type": "text"
      },
      "source": [
        "# Loading the Dataset"
      ]
    },
    {
      "cell_type": "markdown",
      "metadata": {
        "id": "JK0ZRJoxhrFe",
        "colab_type": "text"
      },
      "source": [
        "<h3>Import train and test sets of  SVHN dataset</h3>"
      ]
    },
    {
      "cell_type": "code",
      "metadata": {
        "id": "Jv3nQR9L4WE2",
        "colab_type": "code",
        "colab": {
          "base_uri": "https://localhost:8080/",
          "height": 34
        },
        "outputId": "57109dfd-9927-4640-e007-f064089d08c6"
      },
      "source": [
        "import h5py\n",
        "import numpy as np\n",
        "\n",
        "# Open the file as readonly\n",
        "h5f = h5py.File('/content/drive/My Drive/DataSets/SVHN_single_grey1.h5', 'r')\n",
        "\n",
        "# see what is inside that h5 file\n",
        "print(h5f.keys())\n",
        "\n",
        "# Load the training, test and validation set\n",
        "x_train = h5f['X_train'][:]\n",
        "y_train = h5f['y_train'][:]\n",
        "x_test = h5f['X_test'][:]\n",
        "y_test = h5f['y_test'][:]\n",
        "\n",
        "\n",
        "# Close this file\n",
        "h5f.close()\n"
      ],
      "execution_count": 26,
      "outputs": [
        {
          "output_type": "stream",
          "text": [
            "[u'X_test', u'X_train', u'X_val', u'y_test', u'y_train', u'y_val']\n"
          ],
          "name": "stdout"
        }
      ]
    },
    {
      "cell_type": "markdown",
      "metadata": {
        "id": "PEcVz-OotHWM",
        "colab_type": "text"
      },
      "source": [
        "<h4>Visualizing the dataset</h4>\n",
        "(Visualize first 25 test images from the dataset using matplotlib)  **2.5 Points**"
      ]
    },
    {
      "cell_type": "code",
      "metadata": {
        "id": "c802BFQ3i-nz",
        "colab_type": "code",
        "colab": {
          "base_uri": "https://localhost:8080/",
          "height": 34
        },
        "outputId": "420bf629-e728-42e1-a48c-ed9a7d705349"
      },
      "source": [
        "x_test.shape"
      ],
      "execution_count": 29,
      "outputs": [
        {
          "output_type": "execute_result",
          "data": {
            "text/plain": [
              "(18000, 32, 32)"
            ]
          },
          "metadata": {
            "tags": []
          },
          "execution_count": 29
        }
      ]
    },
    {
      "cell_type": "code",
      "metadata": {
        "id": "dqpGua7ZqUdV",
        "colab_type": "code",
        "colab": {
          "base_uri": "https://localhost:8080/",
          "height": 595
        },
        "outputId": "20815537-0c0a-4afb-a575-34e1bcb95501"
      },
      "source": [
        "# modules we need\n",
        "\n",
        "import numpy as np  \n",
        "import matplotlib.pyplot as plt  \n",
        "import h5py\n",
        "\n",
        "plt.subplots(5,5,figsize = (10,10))\n",
        "\n",
        "for i in range(25):\n",
        "    img_np = x_test[i]\n",
        "    plt.subplot(5,5,1+i)\n",
        "    plt.imshow(img_np, cmap = 'gray')\n",
        "plt.show()"
      ],
      "execution_count": 32,
      "outputs": [
        {
          "output_type": "display_data",
          "data": {
            "image/png": "[encoded data removed]",
            "text/plain": [
              "<Figure size 720x720 with 25 Axes>"
            ]
          },
          "metadata": {
            "tags": [],
            "needs_background": "light"
          }
        }
      ]
    },
    {
      "cell_type": "markdown",
      "metadata": {
        "id": "0D29eowNhmU8",
        "colab_type": "text"
      },
      "source": [
        "<h3>Reshape train and test sets into shapes compatible with keras models</h3>\n",
        "\n",
        "<h4>Keras expects data to be in the format (N_E.N_H,N_W,N_C)  N_E = Number of Examples, N_H = height, N_W = Width, N_C = Number of Channels.</h4>\n"
      ]
    },
    {
      "cell_type": "code",
      "metadata": {
        "id": "KYCYajiwdozQ",
        "colab_type": "code",
        "colab": {}
      },
      "source": [
        "# input image dimensions\n",
        "img_rows, img_cols = 32, 32\n",
        "\n",
        "#Keras expects data to be in the format (N_E.N_H,N_W,N_C)\n",
        "#N_E = Number of Examples, N_H = height, N_W = Width, N_C = Number of Channels.\n",
        "x_train = x_train.reshape(x_train.shape[0], img_rows, img_cols, 1)\n",
        "x_test = x_test.reshape(x_test.shape[0], img_rows, img_cols, 1)\n",
        "input_shape = (img_rows, img_cols, 1)"
      ],
      "execution_count": 33,
      "outputs": []
    },
    {
      "cell_type": "markdown",
      "metadata": {
        "id": "kMGQuoyNiqmL",
        "colab_type": "text"
      },
      "source": [
        "<h3>Pre-processing the dataset</h3>\n",
        "<h4>Normalizing the input</h4>"
      ]
    },
    {
      "cell_type": "code",
      "metadata": {
        "id": "M1kXqqfV4d_b",
        "colab_type": "code",
        "colab": {
          "base_uri": "https://localhost:8080/",
          "height": 70
        },
        "outputId": "c18ebfa4-bffb-4366-ed5b-7212a8444a97"
      },
      "source": [
        "x_train = x_train.astype('float32')\n",
        "x_test = x_test.astype('float32')\n",
        "\n",
        "#Normalizing the input\n",
        "x_train /= 255.0\n",
        "x_test /= 255.0\n",
        "print('x_train shape:', x_train.shape)\n",
        "print(x_train.shape[0], 'train samples')\n",
        "print(x_test.shape[0], 'test samples')"
      ],
      "execution_count": 34,
      "outputs": [
        {
          "output_type": "stream",
          "text": [
            "('x_train shape:', (42000, 32, 32, 1))\n",
            "(42000, 'train samples')\n",
            "(18000, 'test samples')\n"
          ],
          "name": "stdout"
        }
      ]
    },
    {
      "cell_type": "code",
      "metadata": {
        "id": "nlJ0ogZ4dG3G",
        "colab_type": "code",
        "colab": {}
      },
      "source": [
        "batch_size = 128\n",
        "num_classes = 10\n",
        "epochs = 12"
      ],
      "execution_count": 36,
      "outputs": []
    },
    {
      "cell_type": "markdown",
      "metadata": {
        "id": "N8TE7MoZi_w7",
        "colab_type": "text"
      },
      "source": [
        "<h4>Convert Labels from digits to one hot vectors</h4>  **2.5 Points**"
      ]
    },
    {
      "cell_type": "code",
      "metadata": {
        "id": "cqh-cVtT4ijU",
        "colab_type": "code",
        "colab": {}
      },
      "source": [
        "# convert class vectors to binary class matrices\n",
        "y_train1 = keras.utils.to_categorical(y_train, num_classes)\n",
        "y_test1 = keras.utils.to_categorical(y_test, num_classes)"
      ],
      "execution_count": 37,
      "outputs": []
    },
    {
      "cell_type": "code",
      "metadata": {
        "id": "kwSkR9oQslxl",
        "colab_type": "code",
        "colab": {
          "base_uri": "https://localhost:8080/",
          "height": 34
        },
        "outputId": "8b6d7fe6-8525-46b6-a7c2-8e1c78666dbf"
      },
      "source": [
        "print(y_train[0])"
      ],
      "execution_count": 38,
      "outputs": [
        {
          "output_type": "stream",
          "text": [
            "2\n"
          ],
          "name": "stdout"
        }
      ]
    },
    {
      "cell_type": "code",
      "metadata": {
        "id": "ZXOwGFS_stvV",
        "colab_type": "code",
        "colab": {
          "base_uri": "https://localhost:8080/",
          "height": 34
        },
        "outputId": "749152ca-a637-49f7-b606-1e93a7758cc2"
      },
      "source": [
        "print(y_train1[0])"
      ],
      "execution_count": 39,
      "outputs": [
        {
          "output_type": "stream",
          "text": [
            "[0. 0. 1. 0. 0. 0. 0. 0. 0. 0.]\n"
          ],
          "name": "stdout"
        }
      ]
    },
    {
      "cell_type": "markdown",
      "metadata": {
        "id": "QV4R9IbjjOVT",
        "colab_type": "text"
      },
      "source": [
        "# Building the CNN \n",
        "\n",
        "<h4>Define the layers of model</h4>  **5 Points**"
      ]
    },
    {
      "cell_type": "code",
      "metadata": {
        "id": "7sse4G5d4lpY",
        "colab_type": "code",
        "colab": {}
      },
      "source": [
        "#Initialize the model\n",
        "model = Sequential()\n",
        "\n",
        "#Add a Convolutional Layer with 32 filters of size 3X3 and activation function as 'ReLU' \n",
        "model.add(Conv2D(32, kernel_size=(3, 3),\n",
        "                 activation='relu',\n",
        "                 input_shape=input_shape))\n",
        "\n",
        "#Add a Convolutional Layer with 64 filters of size 3X3 and activation function as 'ReLU' \n",
        "model.add(Conv2D(64, (3, 3), activation='relu'))\n",
        "\n",
        "#Add a MaxPooling Layer of size 2X2 \n",
        "model.add(MaxPooling2D(pool_size=(2, 2)))\n",
        "\n",
        "#Apply Dropout with 0.25 probability \n",
        "model.add(Dropout(0.25))\n",
        "\n",
        "#Add a Convolutional Layer with 64 filters of size 3X3 and activation function as 'ReLU' \n",
        "model.add(Conv2D(128, (3, 3), activation='relu'))\n",
        "\n",
        "#Add a MaxPooling Layer of size 2X2 \n",
        "model.add(MaxPooling2D(pool_size=(2, 2)))\n",
        "\n",
        "#Apply Dropout with 0.25 probability \n",
        "model.add(Dropout(0.5))\n",
        "\n",
        "#Flatten the layer\n",
        "model.add(Flatten())\n",
        "\n",
        "#Add Fully Connected Layer with 128 units and activation function as 'ReLU'\n",
        "model.add(Dense(128, activation='relu'))\n",
        "\n",
        "#Apply Dropout with 0.5 probability \n",
        "model.add(Dropout(0.5))\n",
        "\n",
        "#Add Fully Connected Layer with 10 units and activation function as 'softmax'\n",
        "model.add(Dense(num_classes, activation='softmax'))"
      ],
      "execution_count": 48,
      "outputs": []
    },
    {
      "cell_type": "markdown",
      "metadata": {
        "id": "iDYmge-AlJTX",
        "colab_type": "text"
      },
      "source": [
        "<h4>Set Adam Optimizer and Loss function for training</h4>  **2.5 Points**"
      ]
    },
    {
      "cell_type": "code",
      "metadata": {
        "id": "W-y6cZaL4p6R",
        "colab_type": "code",
        "colab": {}
      },
      "source": [
        "from keras.optimizers import Adam\n",
        "from keras.losses import categorical_crossentropy\n",
        "\n",
        "#To use adam optimizer for learning weights with learning rate = 0.001\n",
        "optimizer = Adam(lr=0.001)\n",
        "#Set the loss function and optimizer for the model training\n",
        "model.compile(loss=categorical_crossentropy,\n",
        "              optimizer=optimizer,\n",
        "              metrics=['accuracy'])"
      ],
      "execution_count": 49,
      "outputs": []
    },
    {
      "cell_type": "markdown",
      "metadata": {
        "id": "wVHOojpJlvVa",
        "colab_type": "text"
      },
      "source": [
        "# Training the CNN - 10 Points"
      ]
    },
    {
      "cell_type": "markdown",
      "metadata": {
        "id": "PF0yBjA0jkm-",
        "colab_type": "text"
      },
      "source": [
        "<h4>Initializing the Tensorboard callback for visualization of training</h4>"
      ]
    },
    {
      "cell_type": "code",
      "metadata": {
        "id": "fCysYIM2I-6f",
        "colab_type": "code",
        "colab": {}
      },
      "source": [
        "#Import tensorboard callback which will passed in model.fit function.\n",
        "from keras.callbacks import TensorBoard\n",
        "from time import time\n",
        "\n",
        "\n",
        "#Setting the directory to store the logs.\n",
        "tensorboard = TensorBoard(log_dir=\".logs/{}\".format(time()))"
      ],
      "execution_count": 50,
      "outputs": []
    },
    {
      "cell_type": "markdown",
      "metadata": {
        "id": "Oe1YtBzrmCaL",
        "colab_type": "text"
      },
      "source": [
        "<h4>Initializing Early stopping and Model chekpoint callbacks </h4>"
      ]
    },
    {
      "cell_type": "code",
      "metadata": {
        "id": "WJ3u9GaFl-Xl",
        "colab_type": "code",
        "colab": {}
      },
      "source": [
        "#Adding Early stopping callback to the fit function is going to stop the training,\n",
        "#if the val_loss is not going to change even '0.001' for more than 10 continous epochs\n",
        "\n",
        "early_stopping = EarlyStopping(monitor='val_loss', min_delta=0.001, patience=10)\n",
        "\n",
        "#Adding Model Checkpoint callback to the fit function is going to save the weights whenever val_loss achieves a new low value. \n",
        "#Hence saving the best weights occurred during training\n",
        "\n",
        "model_checkpoint =  ModelCheckpoint('svhn_cnn_checkpoint_{epoch:02d}_loss{val_loss:.4f}.h5',\n",
        "                                                           monitor='val_loss',\n",
        "                                                           verbose=1,\n",
        "                                                           save_best_only=True,\n",
        "                                                           save_weights_only=True,\n",
        "                                                           mode='auto',\n",
        "                                                           period=1)"
      ],
      "execution_count": 51,
      "outputs": []
    },
    {
      "cell_type": "markdown",
      "metadata": {
        "id": "wJIhBhbDmZ8U",
        "colab_type": "text"
      },
      "source": [
        "<h4>Fit the model to the dataset</h4>"
      ]
    },
    {
      "cell_type": "code",
      "metadata": {
        "id": "QDBvTM2B4smP",
        "colab_type": "code",
        "colab": {
          "base_uri": "https://localhost:8080/",
          "height": 897
        },
        "outputId": "89041f76-195b-45d0-b84f-c550a4a3af93"
      },
      "source": [
        "\n",
        "#Training on the dataset and adding the all the callbacks to the fit function.\n",
        "#Once the training starts, results start appearing on Tensorboard after 1 epoch\n",
        "#important to note, use one hot encoded labels y_train1 , y_test1\n",
        "model.fit(x_train, y_train1,  \n",
        "          batch_size=batch_size,\n",
        "          epochs=epochs,\n",
        "          verbose=1,\n",
        "          validation_data=(x_test, y_test1),\n",
        "          callbacks=[early_stopping,model_checkpoint])"
      ],
      "execution_count": 52,
      "outputs": [
        {
          "output_type": "stream",
          "text": [
            "Train on 42000 samples, validate on 18000 samples\n",
            "Epoch 1/12\n",
            "42000/42000 [==============================] - 10s 239us/step - loss: 1.4905 - accuracy: 0.4822 - val_loss: 0.6115 - val_accuracy: 0.8209\n",
            "\n",
            "Epoch 00001: val_loss improved from inf to 0.61152, saving model to svhn_cnn_checkpoint_01_loss0.6115.h5\n",
            "Epoch 2/12\n",
            "42000/42000 [==============================] - 9s 222us/step - loss: 0.7381 - accuracy: 0.7757 - val_loss: 0.4973 - val_accuracy: 0.8596\n",
            "\n",
            "Epoch 00002: val_loss improved from 0.61152 to 0.49726, saving model to svhn_cnn_checkpoint_02_loss0.4973.h5\n",
            "Epoch 3/12\n",
            "42000/42000 [==============================] - 9s 223us/step - loss: 0.6390 - accuracy: 0.8037 - val_loss: 0.4258 - val_accuracy: 0.8742\n",
            "\n",
            "Epoch 00003: val_loss improved from 0.49726 to 0.42579, saving model to svhn_cnn_checkpoint_03_loss0.4258.h5\n",
            "Epoch 4/12\n",
            "42000/42000 [==============================] - 10s 233us/step - loss: 0.5841 - accuracy: 0.8219 - val_loss: 0.4011 - val_accuracy: 0.8820\n",
            "\n",
            "Epoch 00004: val_loss improved from 0.42579 to 0.40112, saving model to svhn_cnn_checkpoint_04_loss0.4011.h5\n",
            "Epoch 5/12\n",
            "42000/42000 [==============================] - 9s 225us/step - loss: 0.5485 - accuracy: 0.8320 - val_loss: 0.3830 - val_accuracy: 0.8851\n",
            "\n",
            "Epoch 00005: val_loss improved from 0.40112 to 0.38299, saving model to svhn_cnn_checkpoint_05_loss0.3830.h5\n",
            "Epoch 6/12\n",
            "42000/42000 [==============================] - 9s 224us/step - loss: 0.5131 - accuracy: 0.8428 - val_loss: 0.3694 - val_accuracy: 0.8911\n",
            "\n",
            "Epoch 00006: val_loss improved from 0.38299 to 0.36937, saving model to svhn_cnn_checkpoint_06_loss0.3694.h5\n",
            "Epoch 7/12\n",
            "42000/42000 [==============================] - 9s 223us/step - loss: 0.4899 - accuracy: 0.8487 - val_loss: 0.3660 - val_accuracy: 0.8946\n",
            "\n",
            "Epoch 00007: val_loss improved from 0.36937 to 0.36598, saving model to svhn_cnn_checkpoint_07_loss0.3660.h5\n",
            "Epoch 8/12\n",
            "42000/42000 [==============================] - 9s 225us/step - loss: 0.4680 - accuracy: 0.8561 - val_loss: 0.3373 - val_accuracy: 0.9030\n",
            "\n",
            "Epoch 00008: val_loss improved from 0.36598 to 0.33732, saving model to svhn_cnn_checkpoint_08_loss0.3373.h5\n",
            "Epoch 9/12\n",
            "42000/42000 [==============================] - 9s 224us/step - loss: 0.4456 - accuracy: 0.8638 - val_loss: 0.3252 - val_accuracy: 0.9063\n",
            "\n",
            "Epoch 00009: val_loss improved from 0.33732 to 0.32519, saving model to svhn_cnn_checkpoint_09_loss0.3252.h5\n",
            "Epoch 10/12\n",
            "42000/42000 [==============================] - 9s 224us/step - loss: 0.4380 - accuracy: 0.8649 - val_loss: 0.3202 - val_accuracy: 0.9085\n",
            "\n",
            "Epoch 00010: val_loss improved from 0.32519 to 0.32015, saving model to svhn_cnn_checkpoint_10_loss0.3202.h5\n",
            "Epoch 11/12\n",
            "42000/42000 [==============================] - 9s 223us/step - loss: 0.4222 - accuracy: 0.8704 - val_loss: 0.3124 - val_accuracy: 0.9107\n",
            "\n",
            "Epoch 00011: val_loss improved from 0.32015 to 0.31243, saving model to svhn_cnn_checkpoint_11_loss0.3124.h5\n",
            "Epoch 12/12\n",
            "42000/42000 [==============================] - 9s 223us/step - loss: 0.4118 - accuracy: 0.8746 - val_loss: 0.3137 - val_accuracy: 0.9096\n",
            "\n",
            "Epoch 00012: val_loss did not improve from 0.31243\n"
          ],
          "name": "stdout"
        },
        {
          "output_type": "execute_result",
          "data": {
            "text/plain": [
              "<keras.callbacks.callbacks.History at 0x7f7c8c5d6c10>"
            ]
          },
          "metadata": {
            "tags": []
          },
          "execution_count": 52
        }
      ]
    },
    {
      "cell_type": "markdown",
      "metadata": {
        "id": "U3WWyAm_me96",
        "colab_type": "text"
      },
      "source": [
        "# Evaluating the CNN"
      ]
    },
    {
      "cell_type": "markdown",
      "metadata": {
        "id": "_DnRZGxSmi5C",
        "colab_type": "text"
      },
      "source": [
        "<h4>Evaluate trained model on the test set</h4>  ** 2.5 Points**"
      ]
    },
    {
      "cell_type": "code",
      "metadata": {
        "id": "q4oZhZm34v_R",
        "colab_type": "code",
        "colab": {
          "base_uri": "https://localhost:8080/",
          "height": 70
        },
        "outputId": "f19881e1-8e73-4d75-dd08-226de450ae64"
      },
      "source": [
        "#Testing the model on test set\n",
        "score = model.evaluate(x_test, y_test1)\n",
        "print('Test loss:', score[0])\n",
        "print('Test accuracy:', score[1])"
      ],
      "execution_count": 54,
      "outputs": [
        {
          "output_type": "stream",
          "text": [
            "18000/18000 [==============================] - 3s 167us/step\n",
            "('Test loss:', 0.3137002735204167)\n",
            "('Test accuracy:', 0.9095555543899536)\n"
          ],
          "name": "stdout"
        }
      ]
    },
    {
      "cell_type": "markdown",
      "metadata": {
        "id": "tWuDdzf0rgf-",
        "colab_type": "text"
      },
      "source": [
        "<h4>Visualize 5 test set image predictions</h4>  **2.5 Points**"
      ]
    },
    {
      "cell_type": "code",
      "metadata": {
        "id": "fiT52J2Gqk2D",
        "colab_type": "code",
        "colab": {
          "base_uri": "https://localhost:8080/",
          "height": 820
        },
        "outputId": "d2105b06-7de8-4aff-d6df-291b6dde7376"
      },
      "source": [
        "import numpy as np\n",
        "\n",
        "plt.figure(figsize=(2,2))\n",
        "plt.imshow(x_test[3].reshape(32,32),cmap=\"gray\")\n",
        "plt.show()\n",
        "print(np.argmax(model.predict(x_test[3].reshape(1,32,32,1))))\n",
        "\n",
        "\n",
        "plt.figure(figsize=(2,2))\n",
        "plt.imshow(x_test[2].reshape(32,32),cmap=\"gray\")\n",
        "plt.show()\n",
        "print(np.argmax(model.predict(x_test[2].reshape(1,32,32,1))))\n",
        "\n",
        "\n",
        "plt.figure(figsize=(2,2))\n",
        "plt.imshow(x_test[33].reshape(32,32),cmap=\"gray\")\n",
        "plt.show()\n",
        "print(np.argmax(model.predict(x_test[33].reshape(1,32,32,1))))\n",
        "\n",
        "\n",
        "plt.figure(figsize=(2,2))\n",
        "plt.imshow(x_test[59].reshape(32,32),cmap=\"gray\")\n",
        "plt.show()\n",
        "print(np.argmax(model.predict(x_test[59].reshape(1,32,32,1))))\n",
        "\n",
        "\n",
        "plt.figure(figsize=(2,2))\n",
        "plt.imshow(x_test[36].reshape(32,32),cmap=\"gray\")\n",
        "plt.show()\n",
        "print(np.argmax(model.predict(x_test[36].reshape(1,32,32,1))))"
      ],
      "execution_count": 56,
      "outputs": [
        {
          "output_type": "display_data",
          "data": {
            "image/png": "[encoded data removed]",
            "text/plain": [
              "<Figure size 144x144 with 1 Axes>"
            ]
          },
          "metadata": {
            "tags": [],
            "needs_background": "light"
          }
        },
        {
          "output_type": "stream",
          "text": [
            "9\n"
          ],
          "name": "stdout"
        },
        {
          "output_type": "display_data",
          "data": {
            "image/png": "[encoded data removed]",
            "text/plain": [
              "<Figure size 144x144 with 1 Axes>"
            ]
          },
          "metadata": {
            "tags": [],
            "needs_background": "light"
          }
        },
        {
          "output_type": "stream",
          "text": [
            "2\n"
          ],
          "name": "stdout"
        },
        {
          "output_type": "display_data",
          "data": {
            "image/png": "[encoded data removed]",
            "text/plain": [
              "<Figure size 144x144 with 1 Axes>"
            ]
          },
          "metadata": {
            "tags": [],
            "needs_background": "light"
          }
        },
        {
          "output_type": "stream",
          "text": [
            "1\n"
          ],
          "name": "stdout"
        },
        {
          "output_type": "display_data",
          "data": {
            "image/png": "[encoded data removed]",
            "text/plain": [
              "<Figure size 144x144 with 1 Axes>"
            ]
          },
          "metadata": {
            "tags": [],
            "needs_background": "light"
          }
        },
        {
          "output_type": "stream",
          "text": [
            "9\n"
          ],
          "name": "stdout"
        },
        {
          "output_type": "display_data",
          "data": {
            "image/png": "[encoded data removed]",
            "text/plain": [
              "<Figure size 144x144 with 1 Axes>"
            ]
          },
          "metadata": {
            "tags": [],
            "needs_background": "light"
          }
        },
        {
          "output_type": "stream",
          "text": [
            "5\n"
          ],
          "name": "stdout"
        }
      ]
    },
    {
      "cell_type": "markdown",
      "metadata": {
        "id": "Fvl0nK6pmsmt",
        "colab_type": "text"
      },
      "source": [
        "# Saving the CNN"
      ]
    },
    {
      "cell_type": "markdown",
      "metadata": {
        "id": "xM4Ram-pmyPd",
        "colab_type": "text"
      },
      "source": [
        "<h4>Save the trained weights and model in h5 files</h4>  **2.5 Points**"
      ]
    },
    {
      "cell_type": "code",
      "metadata": {
        "id": "fhTA0qnm85kH",
        "colab_type": "code",
        "colab": {}
      },
      "source": [
        "#Set the path where you want to store the model and weights. \n",
        "#/content/mnist_cnn_checkpoint_03_loss0.0344.h5\n",
        "model.save('/content/cnn_svhn.h5')\n",
        "model.save_weights('/content/cnn_svhn_weights.h5')"
      ],
      "execution_count": 57,
      "outputs": []
    }
  ]
}